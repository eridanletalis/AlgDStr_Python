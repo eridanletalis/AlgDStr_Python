{
  "nbformat": 4,
  "nbformat_minor": 0,
  "metadata": {
    "colab": {
      "name": "sb_VGGFace2_CNN_original",
      "provenance": [],
      "collapsed_sections": [],
      "include_colab_link": true
    },
    "kernelspec": {
      "name": "python3",
      "display_name": "Python 3"
    }
  },
  "cells": [
    {
      "cell_type": "markdown",
      "metadata": {
        "id": "view-in-github",
        "colab_type": "text"
      },
      "source": [
        "<a href=\"https://colab.research.google.com/github/eridanletalis/AlgDStr_Python/blob/master/sb_VGGFace2_CNN_original.ipynb\" target=\"_parent\"><img src=\"https://colab.research.google.com/assets/colab-badge.svg\" alt=\"Open In Colab\"/></a>"
      ]
    },
    {
      "cell_type": "markdown",
      "metadata": {
        "id": "Qx7gD5SOa0oT"
      },
      "source": [
        "# Домашнее задание\n",
        "\n",
        "В этом домашнем задании вам предстоит обучить модель классификации рукописных цифр на Tensorflow.\n",
        "\n",
        "Важным дополненительным требованием будет сохранение чекпоинтов на ваш гугл диск (не переживайте ниже будут подсказки как это сделать). Это пригодится вам в дальнейшем при обучении более сложных моделей, на случай потери данных при неожиданном отключении Colab."
      ]
    },
    {
      "cell_type": "code",
      "metadata": {
        "id": "tRPzy1zPDyYD",
        "colab": {
          "base_uri": "https://localhost:8080/",
          "height": 35
        },
        "outputId": "4b7cb483-d8ab-4278-c493-844b073f79f2"
      },
      "source": [
        "import tensorflow as tf\n",
        "print(tf.__version__)\n",
        "from google.colab import drive\n",
        "from pathlib import Path\n",
        "import matplotlib.pyplot as plt\n",
        "import numpy as np\n",
        "\n",
        "tf.enable_eager_execution()"
      ],
      "execution_count": null,
      "outputs": [
        {
          "output_type": "stream",
          "text": [
            "1.14.0\n"
          ],
          "name": "stdout"
        }
      ]
    },
    {
      "cell_type": "markdown",
      "metadata": {
        "id": "8oA_nuENcFnQ"
      },
      "source": [
        "####Вспомогательный код"
      ]
    },
    {
      "cell_type": "code",
      "metadata": {
        "id": "dFjoXlmJYyJJ",
        "cellView": "form"
      },
      "source": [
        "#@title \n",
        "def show_mnist(images, labels, predicted_labels=None):\n",
        "    plt.figure(figsize=(10,10))\n",
        "    for i in range(16):\n",
        "        plt.subplot(4,4, i+1)\n",
        "        plt.xticks([])\n",
        "        plt.yticks([])\n",
        "        plt.grid(False)\n",
        "        plt.imshow(images[i], cmap=plt.cm.gray)\n",
        "        if predicted_labels is not None:\n",
        "            title_obj = plt.title(f\"Real: {labels[i]}. Pred: {predicted_labels[i]}\")\n",
        "            if labels[i] != predicted_labels[i]:\n",
        "                plt.setp(title_obj, color='r')\n",
        "        else:\n",
        "            plt.title(f\"Real label: {labels[i]}\")\n",
        "\n",
        "def show_progress(history: dict):\n",
        "    plt.figure(figsize=(10, 5))\n",
        "    ax1 = plt.subplot(1,2,1)    \n",
        "    plt.plot(history[\"acc\"],label='train accuracy')\n",
        "    plt.plot(history[\"val_acc\"], label='test accuracy')\n",
        "    ax2 = plt.subplot(1,2,2)\n",
        "    plt.plot(history[\"loss\"],label='train_loss')\n",
        "    plt.plot(history[\"val_loss\"],label='test_loss')\n",
        "    \n",
        "    ax1.legend(loc='best')\n",
        "    ax2.legend(loc='best')\n",
        "    plt.grid()\n",
        "    plt.tight_layout()\n",
        "    plt.show()"
      ],
      "execution_count": null,
      "outputs": []
    },
    {
      "cell_type": "markdown",
      "metadata": {
        "id": "nL_nICZ4cMOx"
      },
      "source": [
        "## Загрузка данных"
      ]
    },
    {
      "cell_type": "code",
      "metadata": {
        "id": "AcMON-_rWqdK",
        "colab": {
          "base_uri": "https://localhost:8080/",
          "height": 594
        },
        "outputId": "2665a96e-6352-4e5a-c1e8-b7c7a56fd3e0"
      },
      "source": [
        "(x_train, y_train),(x_test, y_test) = tf.keras.datasets.mnist.load_data()\n",
        "x_train, x_test = x_train / 255.0, x_test / 255.0\n",
        "\n",
        "show_mnist(x_train, y_train)\n",
        "x_train = x_train.reshape((-1, 28*28)) # вытянули каждую картинку в вектор\n",
        "x_test = x_test.reshape((-1, 28*28))\n"
      ],
      "execution_count": null,
      "outputs": [
        {
          "output_type": "display_data",
          "data": {
            "image/png": "[encoded data removed]",
            "text/plain": [
              "<Figure size 720x720 with 16 Axes>"
            ]
          },
          "metadata": {
            "tags": []
          }
        }
      ]
    },
    {
      "cell_type": "code",
      "metadata": {
        "id": "D9_g86msEud4"
      },
      "source": [
        "# прикрепим ваш гугл диск к виртуальной машине\n",
        "drive.mount('/content/drive/')"
      ],
      "execution_count": null,
      "outputs": []
    },
    {
      "cell_type": "code",
      "metadata": {
        "id": "0yVUAhqPVVet"
      },
      "source": [
        "# Путь до вашего гугл диска скорее всего выглядит так: /content/drive/My Drive/\n",
        "# если эта клетка вызывает ошибку, \n",
        "# измените путь согласно ! ls \"/content/drive/\"\n",
        "\n",
        "path = Path(\"/content/drive/My Drive/Skillbox/model_1\")\n",
        "path.mkdir(exist_ok=True, parents=True) # папка создается на вашем гугл диске. вместе с \"родителями\"\n",
        "assert path.exists()\n",
        "cpt_filename = \"best_checkpoint.hdf5\"  \n",
        "cpt_path =str(path / cpt_filename)\n",
        "# После выполнения этой клетки, в вашем гугл диске должна создаться папка: Skillbox/model_1\n",
        "# убедитесь в этом"
      ],
      "execution_count": null,
      "outputs": []
    },
    {
      "cell_type": "markdown",
      "metadata": {
        "id": "L1RVxtPzgr_g"
      },
      "source": [
        "А весь код ниже вы реализуете самостоятельно! Вы уже к этому готовы :)\n",
        "Требования к модели:\n",
        "1. Точность на тестовой части выборки >96%\n",
        "2. Чекпоинт модели с лучшими параметрами должен быть сохранен у вас на гугл диске\n",
        "3. Объект history, который получается из model.fit(...) должен содержать значения лосса и accuracy для трейна и теста"
      ]
    },
    {
      "cell_type": "code",
      "metadata": {
        "id": "oAHxE8wpEKD5"
      },
      "source": [
        "# < YOUR CODE STARTS HERE >\n",
        "\n",
        "\n",
        "\n",
        "\n",
        "\n",
        "\n",
        "\n",
        "\n",
        "\n",
        "\n",
        "# < YOUR CODE ENDS HERE >"
      ],
      "execution_count": null,
      "outputs": []
    },
    {
      "cell_type": "code",
      "metadata": {
        "id": "iPntu18cW1CR",
        "colab": {
          "base_uri": "https://localhost:8080/",
          "height": 35
        },
        "outputId": "491cdda8-4779-498f-99b9-acfa6ebd30ae"
      },
      "source": [
        "assert len(list(path.glob(\"*\"))) != 0, f\"Checkpoint dir {path}\"\n",
        "assert \"accuracy\" in history.history, \"History object must contain Accuracy. Please, retrain with this metric\"\n",
        "assert \"val_accuracy\" in history.history, \"Please, provide validation_data in model.fit.\"\n",
        "# Для старой версии (tf.__version__ == 1.x) запустить aseert-ы ниже:\n",
        "# assert \"acc\" in history.history, \"History object must contain Accuracy. Please, retrain with this metric\"\n",
        "# assert \"val_acc\" in history.history, \"Please, provide validation_data in model.fit.\"\n",
        "assert np.max(history.history[\"val_acc\"]) > 0.95, \"Validation accuracy must be more than 0.95\"\n",
        "print(\"Training tests passed\")"
      ],
      "execution_count": null,
      "outputs": [
        {
          "output_type": "stream",
          "text": [
            "Training tests passed\n"
          ],
          "name": "stdout"
        }
      ]
    },
    {
      "cell_type": "markdown",
      "metadata": {
        "id": "3F8zo0Milj4c"
      },
      "source": [
        "Давайте посмотрим на графики обучения:"
      ]
    },
    {
      "cell_type": "code",
      "metadata": {
        "id": "nGOrpkkAX8o5"
      },
      "source": [
        "show_progress(history.history)"
      ],
      "execution_count": null,
      "outputs": []
    },
    {
      "cell_type": "markdown",
      "metadata": {
        "id": "QSbdpY-LlotG"
      },
      "source": [
        "А теперь перейдем к загрузке модели. Если все реализовано правильно, то код ниже должен сработать без ошибок:"
      ]
    },
    {
      "cell_type": "code",
      "metadata": {
        "id": "lUrOvNfPd5B5",
        "colab": {
          "base_uri": "https://localhost:8080/",
          "height": 52
        },
        "outputId": "37701e35-24a5-4e78-a798-863ded19d1ad"
      },
      "source": [
        "restored_model = tf.keras.models.load_model(cpt_path)\n",
        "loss, acc = restored_model.evaluate(x_test, y_test)\n",
        "print(f\"Accuracy of restored model {acc*100 :.2f}%\")\n",
        "assert acc > 0.96"
      ],
      "execution_count": null,
      "outputs": [
        {
          "output_type": "stream",
          "text": [
            "10000/10000 [==============================] - 0s 32us/sample - loss: 0.0935 - acc: 0.9756\n",
            "Accuracy of restored model 97.56%\n"
          ],
          "name": "stdout"
        }
      ]
    },
    {
      "cell_type": "markdown",
      "metadata": {
        "id": "F7XFRliomD6b"
      },
      "source": [
        "И, наконец, можно сравнить предсказания с реальными классами (с такой точностью найти ошибку будет сложно):"
      ]
    },
    {
      "cell_type": "code",
      "metadata": {
        "id": "aYXxV5tjY4Xx"
      },
      "source": [
        "predicted_labels = restored_model.predict_classes(x_test)\n",
        "idxs = np.random.choice(np.arange(len(x_test)), 16, replace=False)\n",
        "show_mnist(x_test[idxs].reshape((-1, 28, 28)), y_test[idxs], predicted_labels[idxs])"
      ],
      "execution_count": null,
      "outputs": []
    }
  ]
}